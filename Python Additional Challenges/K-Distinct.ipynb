{
 "cells": [
  {
   "cell_type": "markdown",
   "metadata": {},
   "source": [
    "## K-Distinct\n",
    "*Write a function <b>k_distinct(string,k)</b> that given a string <b>'string'</b> and number <b>'k'</b>, it checks whether the 'string' has 'k' distinct characters*\n",
    "\n",
    "**For eg:**\n",
    "\n",
    "**Input**\n",
    ">k_distinct('Messoptamia',8)\n",
    "\n",
    "**Output**\n",
    ">True\n",
    "______________________________________\n",
    "\n",
    "**Input**\n",
    ">k_distinct('banana',4)\n",
    "\n",
    "**Output**\n",
    ">False\n"
   ]
  },
  {
   "cell_type": "raw",
   "metadata": {},
   "source": [
    "# IMPORTANT : Change the cell type to 'code' to execute below program\n",
    "\n",
    "# Function definition starts here\n",
    "def k_distinct(string, k):\n",
    "    string = string.lower()\n",
    "    chars = []\n",
    "    chars.append(string[0])\n",
    "    for i in range(1, len(string)):\n",
    "        if(string[i] not in chars):\n",
    "            chars.append(string[i])\n",
    "    return(len(chars) == k)\n",
    "\n",
    "string = 'messoptamia'\n",
    "result = k_distinct(string, 8)\n",
    "print(result)"
   ]
  }
 ],
 "metadata": {
  "kernelspec": {
   "display_name": "Python 3",
   "language": "python",
   "name": "python3"
  },
  "language_info": {
   "codemirror_mode": {
    "name": "ipython",
    "version": 3
   },
   "file_extension": ".py",
   "mimetype": "text/x-python",
   "name": "python",
   "nbconvert_exporter": "python",
   "pygments_lexer": "ipython3",
   "version": "3.8.3"
  }
 },
 "nbformat": 4,
 "nbformat_minor": 4
}
