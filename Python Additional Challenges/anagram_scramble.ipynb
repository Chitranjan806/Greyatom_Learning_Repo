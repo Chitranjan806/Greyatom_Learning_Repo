{
 "cells": [
  {
   "cell_type": "markdown",
   "metadata": {},
   "source": [
    "## Anagram Scramble\n",
    "\n",
    "*Create a function called <b>'a_scramble(str_1, str_2)'</b> that given the strings'str_1','str_2' returns <b>True</b> if a portion of 'str_1' characters can be scrambled to match 'str2', else return <b>False</b>*\n",
    "\n",
    "For eg:\n",
    "____________________________________________\n",
    "\n",
    "**Input**\n",
    ">a_scramble(\"Tom Marvolo Riddle\",\"Voldemort\")\n",
    "\n",
    "**Output**\n",
    ">True\n",
    "____________________________________________\n",
    "\n",
    "**Input**\n",
    ">a_scramble(\"ticket\",\"chat\")\n",
    "\n",
    "**Output**\n",
    ">False"
   ]
  },
  {
   "cell_type": "raw",
   "metadata": {},
   "source": [
    "# IMPORTANT : Change this cell type to 'code' to execute it successfully\n",
    "\n",
    "# Defining the function 'a_scramble'\n",
    "def a_scramble(str_1, str_2):\n",
    "    str_1, str_2 = str_1.lower(), str_2.lower()\n",
    "    str1, str2 = list(str_1), list(str_2)\n",
    "    str_list = []\n",
    "    for i in range(len(str2)):\n",
    "        for j in range(len(str1)):\n",
    "            if(str2[i]==str1[j]):\n",
    "                str_list.append(str2[i])\n",
    "                del str1[j]\n",
    "                break\n",
    "    \n",
    "    n_str = ''.join(str_list)\n",
    "    return(n_str == str_2)\n",
    "\n",
    "\n",
    "str_1 = input(\"Enter a string: \")\n",
    "str_2 = input(\"Enter an anagram: \")\n",
    "output = a_scramble(str_1, str_2)\n",
    "print(output)"
   ]
  },
  {
   "cell_type": "code",
   "execution_count": null,
   "metadata": {},
   "outputs": [],
   "source": []
  }
 ],
 "metadata": {
  "kernelspec": {
   "display_name": "Python 3",
   "language": "python",
   "name": "python3"
  },
  "language_info": {
   "codemirror_mode": {
    "name": "ipython",
    "version": 3
   },
   "file_extension": ".py",
   "mimetype": "text/x-python",
   "name": "python",
   "nbconvert_exporter": "python",
   "pygments_lexer": "ipython3",
   "version": "3.8.3"
  }
 },
 "nbformat": 4,
 "nbformat_minor": 4
}
