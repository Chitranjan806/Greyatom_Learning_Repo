{
 "cells": [
  {
   "cell_type": "markdown",
   "metadata": {},
   "source": [
    "## String Compression\n",
    "*Write a function <b>compress(word)</b> that given a word word returns the string with it's letters and how many times they occur continously together.*\n",
    "\n",
    "For eg:\n",
    "\n",
    "**Input**\n",
    ">a_scramble(\"abbs\")\n",
    "\n",
    "**Output**\n",
    ">\"a1b2s1\"\n",
    "\n",
    "Explanation: 1 occurence of a, followed by 2 occurences of b, followed by 1 occurence of s\n",
    "________________________________________________________________________________________\n",
    "**Input**\n",
    ">compress(\"xxcccdex\")\n",
    "\n",
    "**Output**\n",
    ">\"x2c3d1e1x1\"\n",
    "\n",
    "Explanation: 2 occurences of x, followed by 3 occurences of c, followed by 1 occurence of d, followed by 1 occurence of e, followed by 1 occurence of x"
   ]
  },
  {
   "cell_type": "raw",
   "metadata": {},
   "source": [
    "# IMPORTANT : Change the cell type to 'code' to execute the program\n",
    "\n",
    "# Function definition starts here\n",
    "def compress(word):\n",
    "    # use .lower() to change all characters in 'word' to lowercase\n",
    "    word_list = list(word.lower())\n",
    "    char_count = []\n",
    "    chars = []\n",
    "    chars.append(word_list[0])\n",
    "    count = 1\n",
    "    result_str = ''\n",
    "    for i in range(1,len(word_list)):\n",
    "        if(word_list[i] == word_list[i-1]):\n",
    "            count +=1\n",
    "        else:\n",
    "            chars.append(word_list[i])\n",
    "            char_count.append(count)\n",
    "            count = 1\n",
    "    char_count.append(count)     \n",
    "    for i in range(len(chars)):\n",
    "        result_str = result_str + (chars[i]+str(char_count[i]))\n",
    "    return(result_str)\n",
    "\n",
    "word = 'xxcccdex'\n",
    "result = compress(word)\n",
    "print(result, end='')"
   ]
  }
 ],
 "metadata": {
  "kernelspec": {
   "display_name": "Python 3",
   "language": "python",
   "name": "python3"
  },
  "language_info": {
   "codemirror_mode": {
    "name": "ipython",
    "version": 3
   },
   "file_extension": ".py",
   "mimetype": "text/x-python",
   "name": "python",
   "nbconvert_exporter": "python",
   "pygments_lexer": "ipython3",
   "version": "3.8.3"
  }
 },
 "nbformat": 4,
 "nbformat_minor": 4
}
