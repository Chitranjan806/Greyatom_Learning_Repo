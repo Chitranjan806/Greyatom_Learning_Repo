{
 "cells": [
  {
   "cell_type": "markdown",
   "metadata": {},
   "source": [
    "## Fibonacci Check\n",
    "*Create a function called <b>check_fib(num)</b> that checks if the given number 'num' is part of the fibonacci sequence and returns <b>True</b> if it is, else <b>False</b>*\n",
    "\n",
    "For eg:\n",
    "___________________\n",
    "**Input**\n",
    ">check_fib(145)\n",
    "\n",
    "**Output**\n",
    ">False\n",
    "\n",
    "**Input**\n",
    ">check_fib(377)\n",
    "\n",
    "**Output**\n",
    ">True\n"
   ]
  },
  {
   "cell_type": "raw",
   "metadata": {},
   "source": [
    "# IMPORTANT : Change the cell type to 'code' to execute\n",
    "\n",
    "# Defining the function 'check_fib' to check\n",
    "def check_fib(num):\n",
    "    f1 = 0\n",
    "    f2 = 1\n",
    "    f3 = 0\n",
    "    while(f3 < num):\n",
    "        f3 = f2 + f1\n",
    "        f1 = f2\n",
    "        f2 = f3\n",
    "    return(f3 == num)\n",
    "\n",
    "num = 987\n",
    "is_fib = check_fib(num)\n",
    "print(is_fib)"
   ]
  }
 ],
 "metadata": {
  "kernelspec": {
   "display_name": "Python 3",
   "language": "python",
   "name": "python3"
  },
  "language_info": {
   "codemirror_mode": {
    "name": "ipython",
    "version": 3
   },
   "file_extension": ".py",
   "mimetype": "text/x-python",
   "name": "python",
   "nbconvert_exporter": "python",
   "pygments_lexer": "ipython3",
   "version": "3.8.3"
  }
 },
 "nbformat": 4,
 "nbformat_minor": 4
}
