{
 "cells": [
  {
   "cell_type": "markdown",
   "metadata": {},
   "source": [
    "### Problem Statement\n",
    "Hello!\n",
    "\n",
    "You have been hired by **'CACT'(Census Analysis and Collection Team)** to help with your numpy programming skills. \n",
    "Your major work for today involves census record management and data analysis.\n",
    "\n",
    "About the Dataset\n",
    "The snapshot of the data, you will be working on:\n",
    "\n",
    "<img src=\"census_sample.png\">\n",
    "\n",
    "The dataset has details of 100 people with the following 8 features\n",
    "\n",
    "<img src=\"census_desc.png\" width='400' height='500' >\n",
    "\n",
    "#### Why solve this project\n",
    "After completing this project, you will have a better grip on working with numpy. In this project, you will apply the following concepts:\n",
    "\n",
    "- Array Appending\n",
    "- Array Slicing\n",
    "- Array Filtering\n",
    "- Array Aggregation"
   ]
  },
  {
   "cell_type": "code",
   "execution_count": 1,
   "metadata": {},
   "outputs": [],
   "source": [
    "# Importing important libraries\n",
    "import numpy as np"
   ]
  },
  {
   "cell_type": "code",
   "execution_count": 2,
   "metadata": {},
   "outputs": [],
   "source": [
    "# File path\n",
    "path = \"file.csv\""
   ]
  },
  {
   "cell_type": "code",
   "execution_count": 3,
   "metadata": {},
   "outputs": [],
   "source": [
    "#Reading file\n",
    "data = np.genfromtxt(path, delimiter=\",\", skip_header=1)"
   ]
  },
  {
   "cell_type": "code",
   "execution_count": 4,
   "metadata": {},
   "outputs": [
    {
     "data": {
      "text/plain": [
       "array([[39., 13.,  4., ...,  0., 40.,  0.],\n",
       "       [50., 13.,  4., ...,  0., 13.,  0.],\n",
       "       [38.,  9.,  4., ...,  0., 40.,  0.],\n",
       "       ...,\n",
       "       [48., 13.,  4., ...,  0., 58.,  1.],\n",
       "       [40., 10.,  4., ...,  0., 40.,  0.],\n",
       "       [39., 13.,  4., ...,  0., 50.,  1.]])"
      ]
     },
     "execution_count": 4,
     "metadata": {},
     "output_type": "execute_result"
    }
   ],
   "source": [
    "data"
   ]
  },
  {
   "cell_type": "code",
   "execution_count": 5,
   "metadata": {},
   "outputs": [],
   "source": [
    "#New record\n",
    "new_record=[[50,  9,  4,  1,  0,  0, 40,  0]]"
   ]
  },
  {
   "cell_type": "code",
   "execution_count": 6,
   "metadata": {},
   "outputs": [],
   "source": [
    "new_record_arr = np.array(new_record)\n",
    "census = np.concatenate((data, new_record_arr), axis = 0)"
   ]
  },
  {
   "cell_type": "code",
   "execution_count": 7,
   "metadata": {},
   "outputs": [
    {
     "data": {
      "text/plain": [
       "((1000, 8),\n",
       " (1001, 8),\n",
       " array([[39., 13.,  4., ...,  0., 40.,  0.],\n",
       "        [50., 13.,  4., ...,  0., 13.,  0.],\n",
       "        [38.,  9.,  4., ...,  0., 40.,  0.],\n",
       "        ...,\n",
       "        [40., 10.,  4., ...,  0., 40.,  0.],\n",
       "        [39., 13.,  4., ...,  0., 50.,  1.],\n",
       "        [50.,  9.,  4., ...,  0., 40.,  0.]]))"
      ]
     },
     "execution_count": 7,
     "metadata": {},
     "output_type": "execute_result"
    }
   ],
   "source": [
    "data.shape, census.shape, census"
   ]
  },
  {
   "cell_type": "code",
   "execution_count": 8,
   "metadata": {},
   "outputs": [
    {
     "data": {
      "text/plain": [
       "array([39., 50., 38., ..., 40., 39., 50.])"
      ]
     },
     "execution_count": 8,
     "metadata": {},
     "output_type": "execute_result"
    }
   ],
   "source": [
    "# Creating a new array 'age' by taking only age values from census\n",
    "age = census[0:,0]\n",
    "age"
   ]
  },
  {
   "cell_type": "code",
   "execution_count": 9,
   "metadata": {},
   "outputs": [
    {
     "data": {
      "text/plain": [
       "90.0"
      ]
     },
     "execution_count": 9,
     "metadata": {},
     "output_type": "execute_result"
    }
   ],
   "source": [
    "# Find the maximum age in the array 'age'\n",
    "max_age = np.amax(age)\n",
    "max_age"
   ]
  },
  {
   "cell_type": "code",
   "execution_count": 10,
   "metadata": {},
   "outputs": [
    {
     "data": {
      "text/plain": [
       "17.0"
      ]
     },
     "execution_count": 10,
     "metadata": {},
     "output_type": "execute_result"
    }
   ],
   "source": [
    "# Find the minimum age in the array 'age'\n",
    "min_age = np.amin(age)\n",
    "min_age"
   ]
  },
  {
   "cell_type": "code",
   "execution_count": 11,
   "metadata": {},
   "outputs": [
    {
     "data": {
      "text/plain": [
       "38.06293706293706"
      ]
     },
     "execution_count": 11,
     "metadata": {},
     "output_type": "execute_result"
    }
   ],
   "source": [
    "# Find the mean age and the standard deviation in age.\n",
    "age_mean = np.mean(age)\n",
    "age_mean"
   ]
  },
  {
   "cell_type": "code",
   "execution_count": 12,
   "metadata": {},
   "outputs": [
    {
     "data": {
      "text/plain": [
       "13.341478176165857"
      ]
     },
     "execution_count": 12,
     "metadata": {},
     "output_type": "execute_result"
    }
   ],
   "source": [
    "age_std = np.std(age)\n",
    "age_std"
   ]
  },
  {
   "cell_type": "code",
   "execution_count": 19,
   "metadata": {},
   "outputs": [],
   "source": [
    "# Subsetting the different races to specific arrays\n",
    "race_0 = np.array([])\n",
    "race_1 = np.array([])\n",
    "race_2 = np.array([])\n",
    "race_3 = np.array([])\n",
    "race_4 = np.array([])\n",
    "\n",
    "for r in census[0:,2]:\n",
    "    if(r==0):\n",
    "        race_0 = np.append(race_0, r)\n",
    "    elif(r==1):\n",
    "        race_1 = np.append(race_1, r)\n",
    "    elif(r==2):\n",
    "        race_2 = np.append(race_2, r)\n",
    "    elif(r==3):\n",
    "        race_3 = np.append(race_3, r)\n",
    "    elif(r==4):\n",
    "        race_4 = np.append(race_4, r)"
   ]
  },
  {
   "cell_type": "code",
   "execution_count": 25,
   "metadata": {},
   "outputs": [
    {
     "data": {
      "text/plain": [
       "array([1., 1., 1., 1., 1., 1., 1., 1., 1., 1., 1., 1., 1., 1., 1., 1., 1.,\n",
       "       1., 1., 1., 1., 1., 1., 1., 1., 1., 1.])"
      ]
     },
     "execution_count": 25,
     "metadata": {},
     "output_type": "execute_result"
    }
   ],
   "source": [
    "race_1"
   ]
  },
  {
   "cell_type": "code",
   "execution_count": 30,
   "metadata": {},
   "outputs": [],
   "source": [
    "len_0 = len(race_0)\n",
    "len_1 = len(race_1)\n",
    "len_2 = len(race_2)\n",
    "len_3 = len(race_3)\n",
    "len_4 = len(race_4)"
   ]
  },
  {
   "cell_type": "code",
   "execution_count": 32,
   "metadata": {},
   "outputs": [
    {
     "data": {
      "text/plain": [
       "6"
      ]
     },
     "execution_count": 32,
     "metadata": {},
     "output_type": "execute_result"
    }
   ],
   "source": [
    "len_3"
   ]
  },
  {
   "cell_type": "code",
   "execution_count": 42,
   "metadata": {},
   "outputs": [
    {
     "data": {
      "text/plain": [
       "[10, 27, 110, 6, 848]"
      ]
     },
     "execution_count": 42,
     "metadata": {},
     "output_type": "execute_result"
    }
   ],
   "source": [
    "# Finding out the minority race ( race with minimum no. of citizens )\n",
    "race_count = list([len_0, len_1, len_2, len_3, len_4])\n",
    "race_count"
   ]
  },
  {
   "cell_type": "code",
   "execution_count": 44,
   "metadata": {},
   "outputs": [
    {
     "data": {
      "text/plain": [
       "3"
      ]
     },
     "execution_count": 44,
     "metadata": {},
     "output_type": "execute_result"
    }
   ],
   "source": [
    "minority_race = race_count.index(min(race_count))\n",
    "minority_race"
   ]
  },
  {
   "cell_type": "code",
   "execution_count": 56,
   "metadata": {},
   "outputs": [
    {
     "data": {
      "text/plain": [
       "array([[7.9000e+01, 1.0000e+01, 4.0000e+00, 1.0000e+00, 0.0000e+00,\n",
       "        0.0000e+00, 2.0000e+01, 0.0000e+00],\n",
       "       [6.7000e+01, 6.0000e+00, 4.0000e+00, 1.0000e+00, 0.0000e+00,\n",
       "        0.0000e+00, 2.0000e+00, 0.0000e+00],\n",
       "       [7.6000e+01, 1.4000e+01, 4.0000e+00, 1.0000e+00, 0.0000e+00,\n",
       "        0.0000e+00, 4.0000e+01, 1.0000e+00],\n",
       "       [6.1000e+01, 9.0000e+00, 4.0000e+00, 1.0000e+00, 0.0000e+00,\n",
       "        0.0000e+00, 4.0000e+01, 0.0000e+00],\n",
       "       [7.0000e+01, 1.0000e+01, 4.0000e+00, 1.0000e+00, 0.0000e+00,\n",
       "        0.0000e+00, 4.0000e+01, 0.0000e+00],\n",
       "       [6.4000e+01, 7.0000e+00, 4.0000e+00, 1.0000e+00, 0.0000e+00,\n",
       "        2.1790e+03, 4.0000e+01, 0.0000e+00],\n",
       "       [7.1000e+01, 1.0000e+01, 2.0000e+00, 1.0000e+00, 0.0000e+00,\n",
       "        1.8160e+03, 2.0000e+00, 0.0000e+00],\n",
       "       [6.8000e+01, 2.0000e+00, 4.0000e+00, 0.0000e+00, 0.0000e+00,\n",
       "        0.0000e+00, 2.0000e+01, 0.0000e+00],\n",
       "       [6.6000e+01, 1.1000e+01, 4.0000e+00, 0.0000e+00, 0.0000e+00,\n",
       "        0.0000e+00, 2.0000e+01, 0.0000e+00],\n",
       "       [6.4000e+01, 2.0000e+00, 4.0000e+00, 1.0000e+00, 0.0000e+00,\n",
       "        0.0000e+00, 4.0000e+01, 0.0000e+00],\n",
       "       [9.0000e+01, 9.0000e+00, 2.0000e+00, 1.0000e+00, 0.0000e+00,\n",
       "        2.2060e+03, 4.0000e+01, 0.0000e+00],\n",
       "       [6.6000e+01, 9.0000e+00, 4.0000e+00, 1.0000e+00, 1.4090e+03,\n",
       "        0.0000e+00, 5.0000e+01, 0.0000e+00],\n",
       "       [7.5000e+01, 1.1000e+01, 4.0000e+00, 0.0000e+00, 0.0000e+00,\n",
       "        0.0000e+00, 2.0000e+01, 0.0000e+00],\n",
       "       [6.5000e+01, 9.0000e+00, 4.0000e+00, 0.0000e+00, 0.0000e+00,\n",
       "        0.0000e+00, 4.0000e+01, 0.0000e+00],\n",
       "       [6.4000e+01, 9.0000e+00, 4.0000e+00, 1.0000e+00, 0.0000e+00,\n",
       "        0.0000e+00, 4.0000e+01, 1.0000e+00],\n",
       "       [6.1000e+01, 9.0000e+00, 4.0000e+00, 1.0000e+00, 0.0000e+00,\n",
       "        0.0000e+00, 4.0000e+01, 1.0000e+00],\n",
       "       [6.5000e+01, 9.0000e+00, 4.0000e+00, 1.0000e+00, 0.0000e+00,\n",
       "        0.0000e+00, 1.6000e+01, 0.0000e+00],\n",
       "       [7.7000e+01, 1.0000e+01, 4.0000e+00, 1.0000e+00, 0.0000e+00,\n",
       "        0.0000e+00, 4.0000e+01, 0.0000e+00],\n",
       "       [6.2000e+01, 9.0000e+00, 4.0000e+00, 0.0000e+00, 0.0000e+00,\n",
       "        0.0000e+00, 2.4000e+01, 0.0000e+00],\n",
       "       [7.6000e+01, 1.4000e+01, 4.0000e+00, 1.0000e+00, 0.0000e+00,\n",
       "        0.0000e+00, 1.0000e+01, 0.0000e+00],\n",
       "       [6.3000e+01, 9.0000e+00, 4.0000e+00, 1.0000e+00, 0.0000e+00,\n",
       "        0.0000e+00, 4.5000e+01, 0.0000e+00],\n",
       "       [6.6000e+01, 9.0000e+00, 4.0000e+00, 1.0000e+00, 2.0500e+03,\n",
       "        0.0000e+00, 5.5000e+01, 0.0000e+00],\n",
       "       [6.7000e+01, 7.0000e+00, 4.0000e+00, 1.0000e+00, 0.0000e+00,\n",
       "        0.0000e+00, 8.0000e+00, 0.0000e+00],\n",
       "       [6.5000e+01, 7.0000e+00, 3.0000e+00, 1.0000e+00, 0.0000e+00,\n",
       "        0.0000e+00, 4.0000e+01, 0.0000e+00],\n",
       "       [6.2000e+01, 1.4000e+01, 4.0000e+00, 1.0000e+00, 0.0000e+00,\n",
       "        0.0000e+00, 4.0000e+01, 1.0000e+00],\n",
       "       [6.3000e+01, 9.0000e+00, 4.0000e+00, 1.0000e+00, 0.0000e+00,\n",
       "        0.0000e+00, 4.0000e+01, 1.0000e+00],\n",
       "       [8.0000e+01, 9.0000e+00, 4.0000e+00, 1.0000e+00, 0.0000e+00,\n",
       "        0.0000e+00, 2.4000e+01, 0.0000e+00],\n",
       "       [6.7000e+01, 1.1000e+01, 4.0000e+00, 0.0000e+00, 0.0000e+00,\n",
       "        0.0000e+00, 2.4000e+01, 0.0000e+00],\n",
       "       [6.3000e+01, 2.0000e+00, 4.0000e+00, 1.0000e+00, 0.0000e+00,\n",
       "        0.0000e+00, 3.5000e+01, 0.0000e+00],\n",
       "       [7.2000e+01, 9.0000e+00, 4.0000e+00, 1.0000e+00, 0.0000e+00,\n",
       "        0.0000e+00, 2.0000e+01, 0.0000e+00],\n",
       "       [6.2000e+01, 9.0000e+00, 4.0000e+00, 1.0000e+00, 0.0000e+00,\n",
       "        0.0000e+00, 4.0000e+01, 0.0000e+00],\n",
       "       [7.4000e+01, 1.0000e+01, 4.0000e+00, 0.0000e+00, 0.0000e+00,\n",
       "        0.0000e+00, 9.0000e+00, 0.0000e+00],\n",
       "       [6.7000e+01, 1.5000e+01, 4.0000e+00, 1.0000e+00, 2.0051e+04,\n",
       "        0.0000e+00, 4.8000e+01, 1.0000e+00],\n",
       "       [7.2000e+01, 7.0000e+00, 4.0000e+00, 0.0000e+00, 0.0000e+00,\n",
       "        0.0000e+00, 4.0000e+01, 0.0000e+00],\n",
       "       [6.9000e+01, 7.0000e+00, 4.0000e+00, 0.0000e+00, 0.0000e+00,\n",
       "        0.0000e+00, 4.0000e+01, 0.0000e+00],\n",
       "       [6.5000e+01, 1.0000e+01, 4.0000e+00, 1.0000e+00, 0.0000e+00,\n",
       "        0.0000e+00, 3.0000e+01, 1.0000e+00],\n",
       "       [6.5000e+01, 5.0000e+00, 2.0000e+00, 0.0000e+00, 0.0000e+00,\n",
       "        0.0000e+00, 2.4000e+01, 0.0000e+00],\n",
       "       [7.1000e+01, 9.0000e+00, 4.0000e+00, 1.0000e+00, 0.0000e+00,\n",
       "        0.0000e+00, 1.5000e+01, 0.0000e+00],\n",
       "       [7.0000e+01, 5.0000e+00, 4.0000e+00, 0.0000e+00, 1.1110e+03,\n",
       "        0.0000e+00, 1.5000e+01, 0.0000e+00],\n",
       "       [6.6000e+01, 4.0000e+00, 4.0000e+00, 1.0000e+00, 0.0000e+00,\n",
       "        0.0000e+00, 4.0000e+00, 0.0000e+00],\n",
       "       [6.5000e+01, 7.0000e+00, 4.0000e+00, 1.0000e+00, 9.3860e+03,\n",
       "        0.0000e+00, 5.9000e+01, 1.0000e+00],\n",
       "       [6.1000e+01, 9.0000e+00, 4.0000e+00, 1.0000e+00, 0.0000e+00,\n",
       "        2.3520e+03, 5.0000e+01, 0.0000e+00],\n",
       "       [6.1000e+01, 9.0000e+00, 4.0000e+00, 1.0000e+00, 0.0000e+00,\n",
       "        0.0000e+00, 4.0000e+01, 0.0000e+00],\n",
       "       [6.8000e+01, 7.0000e+00, 4.0000e+00, 1.0000e+00, 0.0000e+00,\n",
       "        0.0000e+00, 2.0000e+01, 0.0000e+00],\n",
       "       [6.4000e+01, 1.3000e+01, 4.0000e+00, 1.0000e+00, 0.0000e+00,\n",
       "        0.0000e+00, 4.0000e+01, 1.0000e+00],\n",
       "       [6.4000e+01, 9.0000e+00, 4.0000e+00, 1.0000e+00, 0.0000e+00,\n",
       "        0.0000e+00, 4.5000e+01, 0.0000e+00],\n",
       "       [6.2000e+01, 9.0000e+00, 4.0000e+00, 0.0000e+00, 0.0000e+00,\n",
       "        0.0000e+00, 4.0000e+01, 0.0000e+00],\n",
       "       [7.3000e+01, 9.0000e+00, 4.0000e+00, 1.0000e+00, 0.0000e+00,\n",
       "        0.0000e+00, 4.0000e+01, 0.0000e+00],\n",
       "       [7.2000e+01, 7.0000e+00, 4.0000e+00, 0.0000e+00, 0.0000e+00,\n",
       "        0.0000e+00, 2.4000e+01, 0.0000e+00],\n",
       "       [6.3000e+01, 9.0000e+00, 4.0000e+00, 1.0000e+00, 0.0000e+00,\n",
       "        0.0000e+00, 6.0000e+00, 0.0000e+00],\n",
       "       [6.2000e+01, 1.3000e+01, 4.0000e+00, 0.0000e+00, 0.0000e+00,\n",
       "        0.0000e+00, 4.8000e+01, 0.0000e+00],\n",
       "       [6.1000e+01, 1.4000e+01, 4.0000e+00, 0.0000e+00, 0.0000e+00,\n",
       "        0.0000e+00, 4.0000e+01, 1.0000e+00],\n",
       "       [7.1000e+01, 1.4000e+01, 4.0000e+00, 1.0000e+00, 1.0605e+04,\n",
       "        0.0000e+00, 4.0000e+01, 1.0000e+00],\n",
       "       [6.3000e+01, 1.0000e+01, 4.0000e+00, 1.0000e+00, 0.0000e+00,\n",
       "        0.0000e+00, 1.5000e+01, 0.0000e+00],\n",
       "       [6.3000e+01, 4.0000e+00, 4.0000e+00, 1.0000e+00, 0.0000e+00,\n",
       "        0.0000e+00, 5.5000e+01, 0.0000e+00],\n",
       "       [6.7000e+01, 9.0000e+00, 1.0000e+00, 1.0000e+00, 0.0000e+00,\n",
       "        0.0000e+00, 4.0000e+01, 1.0000e+00],\n",
       "       [8.1000e+01, 9.0000e+00, 4.0000e+00, 1.0000e+00, 0.0000e+00,\n",
       "        0.0000e+00, 3.0000e+01, 0.0000e+00],\n",
       "       [6.4000e+01, 9.0000e+00, 4.0000e+00, 1.0000e+00, 0.0000e+00,\n",
       "        0.0000e+00, 5.0000e+00, 0.0000e+00],\n",
       "       [6.7000e+01, 1.3000e+01, 4.0000e+00, 1.0000e+00, 0.0000e+00,\n",
       "        2.3920e+03, 4.0000e+01, 1.0000e+00],\n",
       "       [7.8000e+01, 9.0000e+00, 2.0000e+00, 0.0000e+00, 2.9640e+03,\n",
       "        0.0000e+00, 4.0000e+01, 0.0000e+00],\n",
       "       [6.3000e+01, 1.1000e+01, 4.0000e+00, 0.0000e+00, 0.0000e+00,\n",
       "        0.0000e+00, 2.0000e+01, 0.0000e+00]])"
      ]
     },
     "execution_count": 56,
     "metadata": {},
     "output_type": "execute_result"
    }
   ],
   "source": [
    "# STEP - 4\n",
    "\n",
    "senior_citizens = census[census[0:,0] > 60]\n",
    "senior_citizens"
   ]
  },
  {
   "cell_type": "code",
   "execution_count": 58,
   "metadata": {},
   "outputs": [
    {
     "data": {
      "text/plain": [
       "1917.0"
      ]
     },
     "execution_count": 58,
     "metadata": {},
     "output_type": "execute_result"
    }
   ],
   "source": [
    "working_hours_sum = sum(senior_citizens[0:,6])\n",
    "working_hours_sum"
   ]
  },
  {
   "cell_type": "code",
   "execution_count": 59,
   "metadata": {},
   "outputs": [
    {
     "data": {
      "text/plain": [
       "31.42622950819672"
      ]
     },
     "execution_count": 59,
     "metadata": {},
     "output_type": "execute_result"
    }
   ],
   "source": [
    "avg_working_hours = working_hours_sum / len(senior_citizens)\n",
    "avg_working_hours"
   ]
  },
  {
   "cell_type": "code",
   "execution_count": 60,
   "metadata": {},
   "outputs": [
    {
     "data": {
      "text/plain": [
       "61"
      ]
     },
     "execution_count": 60,
     "metadata": {},
     "output_type": "execute_result"
    }
   ],
   "source": [
    "len(senior_citizens)"
   ]
  },
  {
   "cell_type": "code",
   "execution_count": 61,
   "metadata": {},
   "outputs": [],
   "source": [
    "# STEP 5 - \n",
    "# Creating 'high' and 'low' subsets for people with education-num greater than \n",
    "# & lower than equal to 10 respectively.\n",
    "high = census[census[0:,1] > 10]\n",
    "low = census[census[0:,1] <= 10]"
   ]
  },
  {
   "cell_type": "code",
   "execution_count": 64,
   "metadata": {},
   "outputs": [
    {
     "data": {
      "text/plain": [
       "0.14"
      ]
     },
     "execution_count": 64,
     "metadata": {},
     "output_type": "execute_result"
    }
   ],
   "source": [
    "# Calculating mean of income for both the subsets\n",
    "avg_pay_high = round(sum(high[0:,7])/len(high), 2)\n",
    "avg_pay_low = round(sum(low[0:,7])/len(low), 2)\n",
    "avg_pay_low"
   ]
  },
  {
   "cell_type": "code",
   "execution_count": null,
   "metadata": {},
   "outputs": [],
   "source": []
  }
 ],
 "metadata": {
  "kernelspec": {
   "display_name": "Python 3",
   "language": "python",
   "name": "python3"
  },
  "language_info": {
   "codemirror_mode": {
    "name": "ipython",
    "version": 3
   },
   "file_extension": ".py",
   "mimetype": "text/x-python",
   "name": "python",
   "nbconvert_exporter": "python",
   "pygments_lexer": "ipython3",
   "version": "3.8.3"
  }
 },
 "nbformat": 4,
 "nbformat_minor": 4
}
