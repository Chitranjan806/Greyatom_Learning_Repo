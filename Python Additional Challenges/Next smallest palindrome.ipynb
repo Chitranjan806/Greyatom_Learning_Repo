{
 "cells": [
  {
   "cell_type": "markdown",
   "metadata": {},
   "source": [
    "## Next Smallest Palindrome\n",
    "\n",
    "*Create a function called <b>palindrome(num)</b> that given a number 'num', finds the next smallest palindrome and returns it*\n",
    "\n",
    "Note : A palindrome is a word, number, phrase, or other sequence of characters which reads the same backward as forward, such as madam or racecar or the number 10201.\n",
    "\n",
    "For eg:\n",
    "________________________\n",
    "**Input**\n",
    ">palindrome(123)\n",
    "\n",
    "**Output**\n",
    ">131\n",
    "\n",
    "**Input**\n",
    ">palindrome(1331)\n",
    "\n",
    "**Output**\n",
    ">1441\n"
   ]
  },
  {
   "cell_type": "raw",
   "metadata": {},
   "source": [
    "# IMPORTANT : Change this cell type to 'code' to execute!\n",
    "\n",
    "# Defining the function 'palindrome(num)'\n",
    "\n",
    "def palindrome(num):\n",
    "    num1 = num+1\n",
    "    got_p = 'N'\n",
    "    while(got_p != 'Y'):\n",
    "        temp = num1\n",
    "        reverse = 0\n",
    "        while(temp != 0):\n",
    "            rem = temp % 10\n",
    "            reverse = (reverse*10) + rem\n",
    "            temp = temp//10\n",
    "        if(reverse == num1):\n",
    "            got_p = 'Y'\n",
    "        else:\n",
    "            num1 += 1\n",
    "            \n",
    "    if(got_p == 'Y'):\n",
    "        return(num1)\n",
    "    \n",
    "\n",
    "# Calling the function 'palindrome(num)'\n",
    "num = int(input(\"Enter a number to check the next smallest palindrome: \"))\n",
    "next_p = palindrome(num)\n",
    "print(next_p)"
   ]
  },
  {
   "cell_type": "code",
   "execution_count": null,
   "metadata": {},
   "outputs": [],
   "source": []
  }
 ],
 "metadata": {
  "kernelspec": {
   "display_name": "Python 3",
   "language": "python",
   "name": "python3"
  },
  "language_info": {
   "codemirror_mode": {
    "name": "ipython",
    "version": 3
   },
   "file_extension": ".py",
   "mimetype": "text/x-python",
   "name": "python",
   "nbconvert_exporter": "python",
   "pygments_lexer": "ipython3",
   "version": "3.8.3"
  }
 },
 "nbformat": 4,
 "nbformat_minor": 4
}
