{
 "cells": [
  {
   "cell_type": "code",
   "execution_count": 2,
   "metadata": {},
   "outputs": [
    {
     "name": "stdout",
     "output_type": "stream",
     "text": [
      "[['237000000', \"['Action', 'Adventure', 'Fantasy', 'Science Fiction']\", '19995', 'en', 'In the 22nd century, a paraplegic Marine is dispatched to the moon Pandora on a unique mission, but becomes torn between following orders and protecting an alien civilization.', '150.437577', \"['United States of America', 'United Kingdom']\", '2009-12-10', '2787965087', '162.0', 'Released', '7.2', '11800', 'Avatar', 'James Cameron'], ['300000000', \"['Adventure', 'Fantasy', 'Action']\", '285', 'en', 'Captain Barbossa, long believed to be dead, has come back to life and is headed to the edge of the Earth with Will Turner and Elizabeth Swann. But nothing is quite as it seems.', '139.082615', \"['United States of America']\", '2007-05-19', '961000000', '169.0', 'Released', '6.9', '4500', \"Pirates of the Caribbean: At World's End\", 'Gore Verbinski'], ['245000000', \"['Action', 'Adventure', 'Crime']\", '206647', 'en', 'A cryptic message from Bond’s past sends him on a trail to uncover a sinister organization. While M battles political forces to keep the secret service alive, Bond peels back the layers of deceit to reveal the terrible truth behind SPECTRE.', '107.37678799999999', \"['United Kingdom', 'United States of America']\", '2015-10-26', '880674609', '148.0', 'Released', '6.3', '4466', 'Spectre', 'Sam Mendes'], ['250000000', \"['Action', 'Crime', 'Drama', 'Thriller']\", '49026', 'en', \"Following the death of District Attorney Harvey Dent, Batman assumes responsibility for Dent's crimes to protect the late attorney's reputation and is subsequently hunted by the Gotham City Police Department. Eight years later, Batman encounters the mysterious Selina Kyle and the villainous Bane, a new terrorist leader who overwhelms Gotham's finest. The Dark Knight resurfaces to protect a city that has branded him an enemy.\", '112.31295', \"['United States of America']\", '2012-07-16', '1084939099', '165.0', 'Released', '7.6', '9106', 'The Dark Knight Rises', 'Christopher Nolan'], ['260000000', \"['Action', 'Adventure', 'Science Fiction']\", '49529', 'en', \"John Carter is a war-weary, former military captain who's inexplicably transported to the mysterious and exotic planet of Barsoom (Mars) and reluctantly becomes embroiled in an epic conflict. It's a world on the brink of collapse, and Carter rediscovers his humanity when he realizes the survival of Barsoom and its people rests in his hands.\", '43.926995', \"['United States of America']\", '2012-03-07', '284139100', '132.0', 'Released', '6.1', '2124', 'John Carter', 'Andrew Stanton']]\n",
      "[['0', \"['Western', 'Action', 'Drama', 'History']\", '69848', 'en', 'One Man\\'s Hero tells the little-known story of the \"St. Patrick\\'s Battalion\" or \"San Patricios,\" a group of mostly Irish and other immigrants of the Catholic faith who deserted to Mexico after encountering religious and ethnic prejudice in the U.S. Army during the Mexican-American War. The plot centers around the personal story of John Riley, an Irishman who had been a sergeant in the American Army who is commissioned as a captain in the Mexican army and commands the battalion, as he leads his men in battle and struggles with authorities on both sides of the border', '0.910529', \"['United States of America', 'Mexico', 'Spain']\", '1999-08-02', '0', '121.0', 'Released', '9.3', '2', \"One Man's Hero\", 'Lance Hool'], ['0', '[]', '346081', 'en', 'A ghost hunter uses bottles to capture troublesome spirits.', '0.296981', \"['India']\", '2015-06-26', '0', '0.0', 'Released', '9.5', '2', 'Sardaarji', 'Rohit Jugraj']]\n"
     ]
    }
   ],
   "source": [
    "from csv import reader\n",
    "# Read the data file and store it as a list 'movies'\n",
    "path = \"file.csv\"\n",
    "opened_file = open(path, encoding=\"utf8\")\n",
    "read_file = reader(opened_file)\n",
    "movies = list(read_file)\n",
    "\n",
    "\n",
    "\n",
    "# The first row is header. Extract and store it in 'movies_header'.\n",
    "movies_header = movies[0]\n",
    "movies_header\n",
    "\n",
    "# Subset the movies dataset such that the header is removed from the list and store it back in movies\n",
    "movies = movies[1:]\n",
    "\n",
    "# Delete wrong data Explore the row #4553. You will see that as apart from the id, description, status and title, no other information is available.\n",
    "# Hence drop this row.\n",
    "movies.pop(4553)\n",
    "\n",
    "# Using explore_data() with appropriate parameters, view the details of the first 5 movies.\n",
    "def explore_data(dataset, start, end, rows_and_columns = False):    \n",
    "    value = dataset[start:end]\n",
    "    print(value)\n",
    "\n",
    "explore_data(movies,0,5)\n",
    "\n",
    "# Our dataset might have more than one entry for a movie. Call duplicate_and_unique_movies() with index of the name to check the same.\n",
    "def duplicate_and_unique_movies(dataset, index_):\n",
    "    \n",
    "    empty = []\n",
    "    for i in range(len(dataset)):\n",
    "        empty.append(dataset[i][index_])\n",
    "\n",
    "    duplicate = []\n",
    "    for i in empty:\n",
    "        if empty.count(i) > 1:\n",
    "            duplicate.append(i)\n",
    "\n",
    "    print(set(duplicate))\n",
    "\n",
    "# We saw that there are 3 movies for which the there are multiple entries. \n",
    "# Create a dictionary, 'reviews_max' that will have the name of the movie as key, and the maximum number of reviews as values.\n",
    "name = []\n",
    "for i in range(len(movies)):\n",
    "    name.append(movies[i][13])\n",
    "\n",
    "review = []\n",
    "for i in range(len(movies)):\n",
    "    review.append(movies[i][12])\n",
    "\n",
    "review_max = dict(zip(name, review))\n",
    "\n",
    "# Create a list 'movies_clean', which will filter out the duplicate movies and contain the rows with maximum number of reviews for duplicate movies, as stored in 'review_max'. \n",
    "\n",
    "# Calling movies_lang(), extract all the english movies and store it in movies_en.\n",
    "def movies_lang(dataset, index_, lang_):\n",
    "    movies_en = []\n",
    "\n",
    "    for i in range(len(dataset)):\n",
    "        if dataset[i][index_] == lang_:\n",
    "            movies_en.append(dataset[i])\n",
    "    return movies_en\n",
    "\n",
    "# Call the rate_bucket function to see the movies with rating higher than 8.\n",
    "def rate_bucket(dataset, rate_low, rate_high):\n",
    "    rated_movies = []\n",
    "    for i in range(len(dataset)):\n",
    "        if (int(float(dataset[i][11])) > rate_low) & (int(float(movies[i][11])) < rate_high):\n",
    "            rated_movies.append(dataset[i])\n",
    "\n",
    "    return explore_data(rated_movies,0,5)\n",
    "\n",
    "high_rated_movies = rate_bucket(movies,8,9.6)"
   ]
  }
 ],
 "metadata": {
  "kernelspec": {
   "display_name": "Python 3",
   "language": "python",
   "name": "python3"
  },
  "language_info": {
   "codemirror_mode": {
    "name": "ipython",
    "version": 3
   },
   "file_extension": ".py",
   "mimetype": "text/x-python",
   "name": "python",
   "nbconvert_exporter": "python",
   "pygments_lexer": "ipython3",
   "version": "3.8.3"
  }
 },
 "nbformat": 4,
 "nbformat_minor": 2
}
